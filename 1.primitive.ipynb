{
 "cells": [
  {
   "cell_type": "markdown",
   "metadata": {
    "scrolled": true
   },
   "source": [
    "基元（primitive）：任何语言都有它的基本元素，比如人类语言的基本元素就是WORD（字）\n",
    "\n",
    "PYTHON的基元：\n",
    "\n",
    "![MNIST Examples](1.PNG)"
   ]
  },
  {
   "cell_type": "markdown",
   "metadata": {},
   "source": [
    "基元：简单的操作符、运算符 、数据类型、关键词"
   ]
  },
  {
   "cell_type": "markdown",
   "metadata": {},
   "source": [
    "语法(syntax)：\n",
    "    我你爱 \n",
    "    14\"a\"\n",
    "    \n",
    "语义(semantics)：\n",
    "   肉吃我\n",
    "   14 +‘a’\n",
    "  \n",
    "程序的输出结果并不是我们想要的结果：\n",
    "   调试(debug)"
   ]
  },
  {
   "cell_type": "markdown",
   "metadata": {},
   "source": [
    "C是面向过程\n",
    "\n",
    "PYTHON是面向对象\n",
    "\n",
    "PYTHON中几乎看到的所有的东西都是对象\n",
    "对象就是一个信息块,里面有很多内容，比如方法，属性等\n"
   ]
  },
  {
   "cell_type": "markdown",
   "metadata": {},
   "source": [
    " int--整型\n",
    " \n",
    " float--浮點型\n",
    " \n",
    " bool--布爾值  TRUE FALSE\n",
    " \n",
    " NoneType--NONE\n",
    " "
   ]
  },
  {
   "cell_type": "code",
   "execution_count": 11,
   "metadata": {},
   "outputs": [
    {
     "name": "stdout",
     "output_type": "stream",
     "text": [
      "<class 'int'>\n"
     ]
    }
   ],
   "source": [
    "print(type(1))"
   ]
  },
  {
   "cell_type": "code",
   "execution_count": 12,
   "metadata": {},
   "outputs": [
    {
     "data": {
      "text/plain": [
       "int"
      ]
     },
     "execution_count": 12,
     "metadata": {},
     "output_type": "execute_result"
    }
   ],
   "source": [
    "type(1)"
   ]
  },
  {
   "cell_type": "code",
   "execution_count": 13,
   "metadata": {},
   "outputs": [
    {
     "data": {
      "text/plain": [
       "str"
      ]
     },
     "execution_count": 13,
     "metadata": {},
     "output_type": "execute_result"
    }
   ],
   "source": [
    "type('a')"
   ]
  },
  {
   "cell_type": "code",
   "execution_count": 14,
   "metadata": {},
   "outputs": [
    {
     "data": {
      "text/plain": [
       "float"
      ]
     },
     "execution_count": 14,
     "metadata": {},
     "output_type": "execute_result"
    }
   ],
   "source": [
    "type(0.5)"
   ]
  },
  {
   "cell_type": "markdown",
   "metadata": {},
   "source": [
    "type(None)"
   ]
  },
  {
   "cell_type": "markdown",
   "metadata": {},
   "source": [
    "表达式(expression)：\n",
    "对象(object)  操作符\\运算符  对象\n"
   ]
  },
  {
   "cell_type": "code",
   "execution_count": 32,
   "metadata": {},
   "outputs": [],
   "source": [
    "a = 1"
   ]
  },
  {
   "cell_type": "markdown",
   "metadata": {},
   "source": [
    "运算符(operator)：+  -  *  /  %  **  =  \n",
    "   \n",
    "优先级(precedence)：\n",
    "\n",
    "    = 优先级是最低\n",
    "    \n",
    "    如果你忘了优先级 用括号"
   ]
  },
  {
   "cell_type": "code",
   "execution_count": 26,
   "metadata": {},
   "outputs": [
    {
     "data": {
      "text/plain": [
       "100"
      ]
     },
     "execution_count": 26,
     "metadata": {},
     "output_type": "execute_result"
    }
   ],
   "source": [
    "10**2"
   ]
  },
  {
   "cell_type": "code",
   "execution_count": 27,
   "metadata": {},
   "outputs": [
    {
     "data": {
      "text/plain": [
       "1"
      ]
     },
     "execution_count": 27,
     "metadata": {},
     "output_type": "execute_result"
    }
   ],
   "source": [
    "10%3"
   ]
  },
  {
   "cell_type": "markdown",
   "metadata": {},
   "source": [
    "变量(variable)：存储值的容器\n",
    "为什么？\n",
    "1.方便再利用\n",
    "PI=3.1415123435\n",
    "\n",
    "2.方便再更改\n",
    "\n",
    "PI=3.14151234352324234\n",
    "\n",
    "常量(constant)：1   1.5   3.14  True  None"
   ]
  },
  {
   "cell_type": "markdown",
   "metadata": {},
   "source": [
    "a=18\n",
    "\n",
    "print(type(a))\n",
    "\n",
    "b=float(a)\n",
    "\n",
    "print(type(b))\n",
    "\n",
    "int()\n",
    "\n",
    "str()"
   ]
  },
  {
   "cell_type": "code",
   "execution_count": null,
   "metadata": {},
   "outputs": [],
   "source": []
  }
 ],
 "metadata": {
  "kernelspec": {
   "display_name": "Python 3",
   "language": "python",
   "name": "python3"
  },
  "language_info": {
   "codemirror_mode": {
    "name": "ipython",
    "version": 3
   },
   "file_extension": ".py",
   "mimetype": "text/x-python",
   "name": "python",
   "nbconvert_exporter": "python",
   "pygments_lexer": "ipython3",
   "version": "3.7.7"
  }
 },
 "nbformat": 4,
 "nbformat_minor": 4
}
